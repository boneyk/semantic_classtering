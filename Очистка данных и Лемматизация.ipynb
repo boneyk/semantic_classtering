{
 "cells": [
  {
   "cell_type": "code",
   "execution_count": 2,
   "id": "148c599d",
   "metadata": {},
   "outputs": [],
   "source": [
    "import pandas as pd\n",
    "import numpy as np\n",
    "from pymorphy2 import MorphAnalyzer\n",
    "from sklearn.feature_extraction.text import TfidfVectorizer\n",
    "from sklearn.cluster import KMeans"
   ]
  },
  {
   "cell_type": "code",
   "execution_count": 3,
   "id": "b34efa93",
   "metadata": {
    "scrolled": false
   },
   "outputs": [
    {
     "data": {
      "text/html": [
       "<div>\n",
       "<style scoped>\n",
       "    .dataframe tbody tr th:only-of-type {\n",
       "        vertical-align: middle;\n",
       "    }\n",
       "\n",
       "    .dataframe tbody tr th {\n",
       "        vertical-align: top;\n",
       "    }\n",
       "\n",
       "    .dataframe thead th {\n",
       "        text-align: right;\n",
       "    }\n",
       "</style>\n",
       "<table border=\"1\" class=\"dataframe\">\n",
       "  <thead>\n",
       "    <tr style=\"text-align: right;\">\n",
       "      <th></th>\n",
       "      <th>query</th>\n",
       "    </tr>\n",
       "  </thead>\n",
       "  <tbody>\n",
       "    <tr>\n",
       "      <th>0</th>\n",
       "      <td>фарпост работа владивосток</td>\n",
       "    </tr>\n",
       "    <tr>\n",
       "      <th>1</th>\n",
       "      <td>кофейни вакансии</td>\n",
       "    </tr>\n",
       "    <tr>\n",
       "      <th>2</th>\n",
       "      <td>работа разнорабочие часовой</td>\n",
       "    </tr>\n",
       "    <tr>\n",
       "      <th>3</th>\n",
       "      <td>личный водитель на день</td>\n",
       "    </tr>\n",
       "    <tr>\n",
       "      <th>4</th>\n",
       "      <td>работа от работодателя персональный водитель</td>\n",
       "    </tr>\n",
       "  </tbody>\n",
       "</table>\n",
       "</div>"
      ],
      "text/plain": [
       "                                          query\n",
       "0                    фарпост работа владивосток\n",
       "1                              кофейни вакансии\n",
       "2                   работа разнорабочие часовой\n",
       "3                       личный водитель на день\n",
       "4  работа от работодателя персональный водитель"
      ]
     },
     "execution_count": 3,
     "metadata": {},
     "output_type": "execute_result"
    }
   ],
   "source": [
    "df= pd.read_csv('dataset_users_query.csv')\n",
    "df.head()"
   ]
  },
  {
   "cell_type": "code",
   "execution_count": 4,
   "id": "ad466a21",
   "metadata": {
    "scrolled": true
   },
   "outputs": [
    {
     "data": {
      "text/html": [
       "<div>\n",
       "<style scoped>\n",
       "    .dataframe tbody tr th:only-of-type {\n",
       "        vertical-align: middle;\n",
       "    }\n",
       "\n",
       "    .dataframe tbody tr th {\n",
       "        vertical-align: top;\n",
       "    }\n",
       "\n",
       "    .dataframe thead th {\n",
       "        text-align: right;\n",
       "    }\n",
       "</style>\n",
       "<table border=\"1\" class=\"dataframe\">\n",
       "  <thead>\n",
       "    <tr style=\"text-align: right;\">\n",
       "      <th></th>\n",
       "      <th>query</th>\n",
       "      <th>Фраза_по_словам</th>\n",
       "    </tr>\n",
       "  </thead>\n",
       "  <tbody>\n",
       "    <tr>\n",
       "      <th>0</th>\n",
       "      <td>фарпост работа владивосток</td>\n",
       "      <td>[фарпост, работа, владивосток]</td>\n",
       "    </tr>\n",
       "    <tr>\n",
       "      <th>1</th>\n",
       "      <td>кофейни вакансии</td>\n",
       "      <td>[кофейни, вакансии]</td>\n",
       "    </tr>\n",
       "    <tr>\n",
       "      <th>2</th>\n",
       "      <td>работа разнорабочие часовой</td>\n",
       "      <td>[работа, разнорабочие, часовой]</td>\n",
       "    </tr>\n",
       "    <tr>\n",
       "      <th>3</th>\n",
       "      <td>личный водитель на день</td>\n",
       "      <td>[личный, водитель, на, день]</td>\n",
       "    </tr>\n",
       "    <tr>\n",
       "      <th>4</th>\n",
       "      <td>работа от работодателя персональный водитель</td>\n",
       "      <td>[работа, от, работодателя, персональный, водит...</td>\n",
       "    </tr>\n",
       "  </tbody>\n",
       "</table>\n",
       "</div>"
      ],
      "text/plain": [
       "                                          query  \\\n",
       "0                    фарпост работа владивосток   \n",
       "1                              кофейни вакансии   \n",
       "2                   работа разнорабочие часовой   \n",
       "3                       личный водитель на день   \n",
       "4  работа от работодателя персональный водитель   \n",
       "\n",
       "                                     Фраза_по_словам  \n",
       "0                     [фарпост, работа, владивосток]  \n",
       "1                                [кофейни, вакансии]  \n",
       "2                    [работа, разнорабочие, часовой]  \n",
       "3                       [личный, водитель, на, день]  \n",
       "4  [работа, от, работодателя, персональный, водит...  "
      ]
     },
     "execution_count": 4,
     "metadata": {},
     "output_type": "execute_result"
    }
   ],
   "source": [
    "df['Фраза_по_словам'] = df['query'].str.lower().str.split()\n",
    "df.head()"
   ]
  },
  {
   "cell_type": "markdown",
   "id": "b778f207",
   "metadata": {},
   "source": [
    "## Очистка датасета от предлогов, чисел и отдельных букв"
   ]
  },
  {
   "cell_type": "code",
   "execution_count": 5,
   "id": "220263de",
   "metadata": {},
   "outputs": [
    {
     "name": "stdout",
     "output_type": "stream",
     "text": [
      "['без', 'безо', 'близ', 'в', 'во', 'вместо', 'вне', 'для', 'до', 'за', 'из', 'из-за', 'изо', 'из-под', 'изпод', 'под', 'к', 'ко', 'кроме', 'между', 'меж', 'на', 'над', 'о', 'об', 'обо', 'от', 'ото', 'перед', 'передо', 'пред', 'предо', 'по', 'подо', 'при', 'про', 'ради', 'с', 'со', 'сквозь', 'среди', 'у', 'через', 'чрез', 'и', 'или', 'c']\n"
     ]
    }
   ],
   "source": [
    "predlogi = pd.read_excel('spisok_predlogov.xlsx')\n",
    "predlogi = predlogi['Unnamed: 0'].dropna()\n",
    "unique_values = predlogi.str.lower().unique()\n",
    "unique_values = unique_values.tolist()\n",
    "predlogi = unique_values\n",
    "print(predlogi)"
   ]
  },
  {
   "cell_type": "code",
   "execution_count": 6,
   "id": "3040bfea",
   "metadata": {},
   "outputs": [],
   "source": [
    "def find_predlogi(splitted_phrase):\n",
    "    for word in splitted_phrase:\n",
    "        if word in predlogi:\n",
    "            splitted_phrase.remove(word)\n",
    "    return splitted_phrase"
   ]
  },
  {
   "cell_type": "code",
   "execution_count": 7,
   "id": "d80ecae8",
   "metadata": {},
   "outputs": [],
   "source": [
    "df['Фраза_по_словам'] = df['Фраза_по_словам'].apply(find_predlogi)"
   ]
  },
  {
   "cell_type": "code",
   "execution_count": 8,
   "id": "0d5ecd36",
   "metadata": {},
   "outputs": [],
   "source": [
    "def find_num(splitted_phrase):\n",
    "    return [word for word in splitted_phrase if not any(char.isdigit() for char in word)]"
   ]
  },
  {
   "cell_type": "code",
   "execution_count": 9,
   "id": "2699fe44",
   "metadata": {},
   "outputs": [],
   "source": [
    "df['Фраза_по_словам'] = df['Фраза_по_словам'].apply(find_num)"
   ]
  },
  {
   "cell_type": "code",
   "execution_count": 10,
   "id": "553258aa",
   "metadata": {},
   "outputs": [],
   "source": [
    "def find_word(splitted_phrase):\n",
    "    return [word for word in splitted_phrase if len(word) > 1 or not word.isalpha()]"
   ]
  },
  {
   "cell_type": "code",
   "execution_count": 11,
   "id": "b9a57177",
   "metadata": {},
   "outputs": [],
   "source": [
    "df['Фраза_по_словам'] = df['Фраза_по_словам'].apply(find_word)"
   ]
  },
  {
   "cell_type": "code",
   "execution_count": 12,
   "id": "646213fe",
   "metadata": {
    "scrolled": true
   },
   "outputs": [
    {
     "data": {
      "text/html": [
       "<div>\n",
       "<style scoped>\n",
       "    .dataframe tbody tr th:only-of-type {\n",
       "        vertical-align: middle;\n",
       "    }\n",
       "\n",
       "    .dataframe tbody tr th {\n",
       "        vertical-align: top;\n",
       "    }\n",
       "\n",
       "    .dataframe thead th {\n",
       "        text-align: right;\n",
       "    }\n",
       "</style>\n",
       "<table border=\"1\" class=\"dataframe\">\n",
       "  <thead>\n",
       "    <tr style=\"text-align: right;\">\n",
       "      <th></th>\n",
       "      <th>query</th>\n",
       "      <th>Фраза_по_словам</th>\n",
       "    </tr>\n",
       "  </thead>\n",
       "  <tbody>\n",
       "    <tr>\n",
       "      <th>0</th>\n",
       "      <td>фарпост работа владивосток</td>\n",
       "      <td>фарпост работа владивосток</td>\n",
       "    </tr>\n",
       "    <tr>\n",
       "      <th>1</th>\n",
       "      <td>кофейни вакансии</td>\n",
       "      <td>кофейни вакансии</td>\n",
       "    </tr>\n",
       "    <tr>\n",
       "      <th>2</th>\n",
       "      <td>работа разнорабочие часовой</td>\n",
       "      <td>работа разнорабочие часовой</td>\n",
       "    </tr>\n",
       "    <tr>\n",
       "      <th>3</th>\n",
       "      <td>личный водитель на день</td>\n",
       "      <td>личный водитель день</td>\n",
       "    </tr>\n",
       "    <tr>\n",
       "      <th>4</th>\n",
       "      <td>работа от работодателя персональный водитель</td>\n",
       "      <td>работа работодателя персональный водитель</td>\n",
       "    </tr>\n",
       "    <tr>\n",
       "      <th>...</th>\n",
       "      <td>...</td>\n",
       "      <td>...</td>\n",
       "    </tr>\n",
       "    <tr>\n",
       "      <th>95</th>\n",
       "      <td>работа в автомойке</td>\n",
       "      <td>работа автомойке</td>\n",
       "    </tr>\n",
       "    <tr>\n",
       "      <th>96</th>\n",
       "      <td>работа в ночную смену для девушек</td>\n",
       "      <td>работа ночную смену девушек</td>\n",
       "    </tr>\n",
       "    <tr>\n",
       "      <th>97</th>\n",
       "      <td>работа водителем курьером на авто работодателя</td>\n",
       "      <td>работа водителем курьером авто работодателя</td>\n",
       "    </tr>\n",
       "    <tr>\n",
       "      <th>98</th>\n",
       "      <td>работа водитель курьер на легковом автомобиле</td>\n",
       "      <td>работа водитель курьер легковом автомобиле</td>\n",
       "    </tr>\n",
       "    <tr>\n",
       "      <th>99</th>\n",
       "      <td>работа грузчик комплектовщик без вахты</td>\n",
       "      <td>работа грузчик комплектовщик вахты</td>\n",
       "    </tr>\n",
       "  </tbody>\n",
       "</table>\n",
       "<p>100 rows × 2 columns</p>\n",
       "</div>"
      ],
      "text/plain": [
       "                                             query  \\\n",
       "0                       фарпост работа владивосток   \n",
       "1                                 кофейни вакансии   \n",
       "2                      работа разнорабочие часовой   \n",
       "3                          личный водитель на день   \n",
       "4     работа от работодателя персональный водитель   \n",
       "..                                             ...   \n",
       "95                              работа в автомойке   \n",
       "96               работа в ночную смену для девушек   \n",
       "97  работа водителем курьером на авто работодателя   \n",
       "98   работа водитель курьер на легковом автомобиле   \n",
       "99          работа грузчик комплектовщик без вахты   \n",
       "\n",
       "                                Фраза_по_словам  \n",
       "0                    фарпост работа владивосток  \n",
       "1                              кофейни вакансии  \n",
       "2                   работа разнорабочие часовой  \n",
       "3                          личный водитель день  \n",
       "4     работа работодателя персональный водитель  \n",
       "..                                          ...  \n",
       "95                             работа автомойке  \n",
       "96                  работа ночную смену девушек  \n",
       "97  работа водителем курьером авто работодателя  \n",
       "98   работа водитель курьер легковом автомобиле  \n",
       "99           работа грузчик комплектовщик вахты  \n",
       "\n",
       "[100 rows x 2 columns]"
      ]
     },
     "execution_count": 12,
     "metadata": {},
     "output_type": "execute_result"
    }
   ],
   "source": [
    "df['Фраза_по_словам'] = df['Фраза_по_словам'].apply(lambda x: ' '.join(x))\n",
    "df.head(100)"
   ]
  },
  {
   "cell_type": "markdown",
   "id": "af2fee1a",
   "metadata": {},
   "source": [
    "## Лемматизация"
   ]
  },
  {
   "cell_type": "code",
   "execution_count": null,
   "id": "5eba2ad0",
   "metadata": {},
   "outputs": [],
   "source": [
    "df_work = df.head(3000).copy()\n",
    "\n",
    "from pymystem3 import Mystem\n",
    "m = Mystem()\n",
    "def lemmatize_sentence(text):\n",
    "    lemmas = m.lemmatize(text)\n",
    "    return \"\".join(lemmas).strip()\n",
    "\n",
    "df_work['Леммы'] = [lemmatize_sentence(x) for x in df_work['Фраза_по_словам']]\n",
    "df_work.head()"
   ]
  },
  {
   "cell_type": "code",
   "execution_count": 21,
   "id": "cf01e7d4",
   "metadata": {},
   "outputs": [
    {
     "data": {
      "text/html": [
       "<div>\n",
       "<style scoped>\n",
       "    .dataframe tbody tr th:only-of-type {\n",
       "        vertical-align: middle;\n",
       "    }\n",
       "\n",
       "    .dataframe tbody tr th {\n",
       "        vertical-align: top;\n",
       "    }\n",
       "\n",
       "    .dataframe thead th {\n",
       "        text-align: right;\n",
       "    }\n",
       "</style>\n",
       "<table border=\"1\" class=\"dataframe\">\n",
       "  <thead>\n",
       "    <tr style=\"text-align: right;\">\n",
       "      <th></th>\n",
       "      <th>query</th>\n",
       "      <th>Фраза_по_словам</th>\n",
       "      <th>Леммы</th>\n",
       "    </tr>\n",
       "    <tr>\n",
       "      <th>id</th>\n",
       "      <th></th>\n",
       "      <th></th>\n",
       "      <th></th>\n",
       "    </tr>\n",
       "  </thead>\n",
       "  <tbody>\n",
       "    <tr>\n",
       "      <th>0</th>\n",
       "      <td>фарпост работа владивосток</td>\n",
       "      <td>фарпост работа владивосток</td>\n",
       "      <td>фарпост работа владивосток</td>\n",
       "    </tr>\n",
       "    <tr>\n",
       "      <th>1</th>\n",
       "      <td>кофейни вакансии</td>\n",
       "      <td>кофейни вакансии</td>\n",
       "      <td>кофейня вакансия</td>\n",
       "    </tr>\n",
       "    <tr>\n",
       "      <th>2</th>\n",
       "      <td>работа разнорабочие часовой</td>\n",
       "      <td>работа разнорабочие часовой</td>\n",
       "      <td>работа разнорабочий часовой</td>\n",
       "    </tr>\n",
       "    <tr>\n",
       "      <th>3</th>\n",
       "      <td>личный водитель на день</td>\n",
       "      <td>личный водитель день</td>\n",
       "      <td>личный водитель день</td>\n",
       "    </tr>\n",
       "    <tr>\n",
       "      <th>4</th>\n",
       "      <td>работа от работодателя персональный водитель</td>\n",
       "      <td>работа работодателя персональный водитель</td>\n",
       "      <td>работа работодатель персональный водитель</td>\n",
       "    </tr>\n",
       "  </tbody>\n",
       "</table>\n",
       "</div>"
      ],
      "text/plain": [
       "                                           query  \\\n",
       "id                                                 \n",
       "0                     фарпост работа владивосток   \n",
       "1                               кофейни вакансии   \n",
       "2                    работа разнорабочие часовой   \n",
       "3                        личный водитель на день   \n",
       "4   работа от работодателя персональный водитель   \n",
       "\n",
       "                              Фраза_по_словам  \\\n",
       "id                                              \n",
       "0                  фарпост работа владивосток   \n",
       "1                            кофейни вакансии   \n",
       "2                 работа разнорабочие часовой   \n",
       "3                        личный водитель день   \n",
       "4   работа работодателя персональный водитель   \n",
       "\n",
       "                                        Леммы  \n",
       "id                                             \n",
       "0                  фарпост работа владивосток  \n",
       "1                            кофейня вакансия  \n",
       "2                 работа разнорабочий часовой  \n",
       "3                        личный водитель день  \n",
       "4   работа работодатель персональный водитель  "
      ]
     },
     "execution_count": 21,
     "metadata": {},
     "output_type": "execute_result"
    }
   ],
   "source": [
    "df_work = pd.read_excel('output_work.xlsx',index_col = 'id')\n",
    "df_work.head()"
   ]
  }
 ],
 "metadata": {
  "kernelspec": {
   "display_name": "Python 3 (ipykernel)",
   "language": "python",
   "name": "python3"
  },
  "language_info": {
   "codemirror_mode": {
    "name": "ipython",
    "version": 3
   },
   "file_extension": ".py",
   "mimetype": "text/x-python",
   "name": "python",
   "nbconvert_exporter": "python",
   "pygments_lexer": "ipython3",
   "version": "3.11.1"
  }
 },
 "nbformat": 4,
 "nbformat_minor": 5
}
